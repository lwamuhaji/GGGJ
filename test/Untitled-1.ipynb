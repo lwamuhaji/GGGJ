{
 "cells": [
  {
   "cell_type": "code",
   "execution_count": 3,
   "metadata": {},
   "outputs": [],
   "source": [
    "from gnetwork.gserver import GServer\n",
    "\n",
    "server = GServer()\n",
    "server.start()"
   ]
  }
 ],
 "metadata": {
  "interpreter": {
   "hash": "a9190597dbec35ce8ece14b404bb0ee6c744c848723b92d3d76eac1b47c4e4ee"
  },
  "kernelspec": {
   "display_name": "Python 3.7.11 64-bit ('torch': conda)",
   "name": "python3"
  },
  "language_info": {
   "codemirror_mode": {
    "name": "ipython",
    "version": 3
   },
   "file_extension": ".py",
   "mimetype": "text/x-python",
   "name": "python",
   "nbconvert_exporter": "python",
   "pygments_lexer": "ipython3",
   "version": "3.7.11"
  },
  "orig_nbformat": 4
 },
 "nbformat": 4,
 "nbformat_minor": 2
}
