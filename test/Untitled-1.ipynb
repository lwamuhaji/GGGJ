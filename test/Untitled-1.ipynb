{
 "cells": [
  {
   "cell_type": "code",
   "execution_count": 1,
   "metadata": {},
   "outputs": [
    {
     "name": "stdout",
     "output_type": "stream",
     "text": [
      "Waiting...\n",
      "Client connected: ('192.168.25.1', 33791)\n",
      "Receive thread started\n",
      "b'\\x80\\x03}q\\x00X\\x04\\x00\\x00\\x00textq\\x01X\\x03\\x00\\x00\\x00123q\\x02s.'\n",
      "b'\\x80\\x03}q\\x00X\\x04\\x00\\x00\\x00textq\\x01X\\r\\x00\\x00\\x00aaaaaaaaaaaaaq\\x02s.'\n",
      "b'\\x80\\x03}q\\x00X\\x04\\x00\\x00\\x00textq\\x01X\\x00\\x00\\x00\\x00q\\x02s.'\n"
     ]
    }
   ],
   "source": [
    "if __name__ == '__main__':\n",
    "    import os, sys\n",
    "    mypath = os.path.dirname(os.path.abspath(''))\n",
    "    if not mypath in sys.path: sys.path.append(mypath)\n",
    "from gnetwork.gserver import GServer\n",
    "\n",
    "server = GServer()\n",
    "server.start()\n",
    "server.startRecvThread()"
   ]
  }
 ],
 "metadata": {
  "interpreter": {
   "hash": "a9190597dbec35ce8ece14b404bb0ee6c744c848723b92d3d76eac1b47c4e4ee"
  },
  "kernelspec": {
   "display_name": "Python 3.7.11 64-bit ('torch': conda)",
   "name": "python3"
  },
  "language_info": {
   "codemirror_mode": {
    "name": "ipython",
    "version": 3
   },
   "file_extension": ".py",
   "mimetype": "text/x-python",
   "name": "python",
   "nbconvert_exporter": "python",
   "pygments_lexer": "ipython3",
   "version": "3.7.11"
  },
  "orig_nbformat": 4
 },
 "nbformat": 4,
 "nbformat_minor": 2
}
