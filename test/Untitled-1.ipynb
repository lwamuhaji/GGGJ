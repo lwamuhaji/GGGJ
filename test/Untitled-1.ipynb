{
 "cells": [
  {
   "cell_type": "code",
   "execution_count": 1,
   "metadata": {},
   "outputs": [
    {
     "name": "stdout",
     "output_type": "stream",
     "text": [
      "Waiting...\n",
      "Client connected: ('192.168.25.1', 33791)\n",
      "Receive thread started\n",
      "{'move': 'right'}\n",
      "{'move': 'right'}\n"
     ]
    },
    {
     "name": "stderr",
     "output_type": "stream",
     "text": [
      "Exception in thread Thread-6:\n",
      "Traceback (most recent call last):\n",
      "  File \"D:\\ProgramFiles\\anaconda3\\envs\\torch\\lib\\threading.py\", line 926, in _bootstrap_inner\n",
      "    self.run()\n",
      "  File \"d:\\source\\git\\GGGJ\\gnetwork\\gthread.py\", line 27, in run\n",
      "    d: bytes = self.intent.client_socket.recv(self.intent.buffer_size)\n",
      "ConnectionResetError: [WinError 10054] 현재 연결은 원격 호스트에 의해 강제로 끊겼습니다\n",
      "\n"
     ]
    }
   ],
   "source": [
    "if __name__ == '__main__':\n",
    "    import os, sys\n",
    "    mypath = os.path.dirname(os.path.abspath(''))\n",
    "    if not mypath in sys.path: sys.path.append(mypath)\n",
    "from gnetwork.gserver import GServer\n",
    "\n",
    "server = GServer()\n",
    "server.start()\n",
    "server.startRecvThread()"
   ]
  }
 ],
 "metadata": {
  "interpreter": {
   "hash": "a9190597dbec35ce8ece14b404bb0ee6c744c848723b92d3d76eac1b47c4e4ee"
  },
  "kernelspec": {
   "display_name": "Python 3.7.11 64-bit ('torch': conda)",
   "name": "python3"
  },
  "language_info": {
   "codemirror_mode": {
    "name": "ipython",
    "version": 3
   },
   "file_extension": ".py",
   "mimetype": "text/x-python",
   "name": "python",
   "nbconvert_exporter": "python",
   "pygments_lexer": "ipython3",
   "version": "3.7.11"
  },
  "orig_nbformat": 4
 },
 "nbformat": 4,
 "nbformat_minor": 2
}
